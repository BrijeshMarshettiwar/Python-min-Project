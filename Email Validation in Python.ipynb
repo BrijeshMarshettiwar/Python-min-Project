{
 "cells": [
  {
   "cell_type": "markdown",
   "id": "3f7a63a4",
   "metadata": {},
   "source": [
    "# Email Validation in Python(Using String Function)"
   ]
  },
  {
   "cell_type": "code",
   "execution_count": null,
   "id": "17915751",
   "metadata": {},
   "outputs": [
    {
     "name": "stdout",
     "output_type": "stream",
     "text": [
      "Enter your Email :vgvchvkqu@jh.com\n",
      "Valid Email\n"
     ]
    }
   ],
   "source": [
    "email = input(\"Enter your Email :\")#g@g.in , wscube@gmail.com\n",
    "k,j,d=0,0,0\n",
    "if len(email)>=6:\n",
    "    if email[0].isalpha():\n",
    "        if (\"@\" in email) and (email.count(\"@\")==1):\n",
    "            if (email[-4]==\".\") ^ (email[-3]==\".\"):\n",
    "                for i in email:\n",
    "                    if i==i.isspace():\n",
    "                        k=1\n",
    "                    elif i.isalpha():\n",
    "                        if i==i.upper():#w-- W==w\n",
    "                            j=1\n",
    "                    elif i.isdigit():\n",
    "                        continue\n",
    "                    elif i==\"_\" or i==\".\" or i==\"@\":\n",
    "                        continue\n",
    "                    else:\n",
    "                        d=1\n",
    "                            \n",
    "                if k==1or j==1 or d==1:\n",
    "                    print(\"invalid charaters\")\n",
    "                else:\n",
    "                    print(\"Valid Email\")\n",
    "            else:\n",
    "                print(\"invalid type of .in or .com\")\n",
    "        else:\n",
    "            print(\" @ charater is must be in email and one @ character is alowed \")\n",
    "    else:\n",
    "        print(\"Email start with alphabet\")\n",
    "else:\n",
    "    print(\"Minimum 6 characters. \")\n",
    "    \n"
   ]
  },
  {
   "cell_type": "markdown",
   "id": "b00cc9e0",
   "metadata": {},
   "source": [
    "# Email Validation in Python(Using Regex)"
   ]
  },
  {
   "cell_type": "code",
   "execution_count": null,
   "id": "c58adb37",
   "metadata": {},
   "outputs": [],
   "source": [
    "#Condition\n",
    "#a-z\n",
    "#0-9\n",
    "# . _ time 1\n",
    "# @ time 1\n",
    "# . 2,3\n"
   ]
  },
  {
   "cell_type": "code",
   "execution_count": 14,
   "id": "12ffdb0b",
   "metadata": {},
   "outputs": [
    {
     "name": "stdout",
     "output_type": "stream",
     "text": [
      "Enter your Email :marshettiwarbrijesh@gmail.com\n",
      " Valid Email \n"
     ]
    }
   ],
   "source": [
    "import re\n",
    "email_condition=\"^[a-z]+[\\._]?[a-z 0-9]+[@]\\w+[.]\\w{2,3}$\"\n",
    "user_email=input('Enter your Email :')\n",
    "if re.search(email_condition,user_email):\n",
    "    print(\" Valid Email \")\n",
    "else:\n",
    "    print(\" Invalid Email \")"
   ]
  },
  {
   "cell_type": "code",
   "execution_count": null,
   "id": "77620488",
   "metadata": {},
   "outputs": [],
   "source": []
  }
 ],
 "metadata": {
  "kernelspec": {
   "display_name": "Python 3",
   "language": "python",
   "name": "python3"
  },
  "language_info": {
   "codemirror_mode": {
    "name": "ipython",
    "version": 3
   },
   "file_extension": ".py",
   "mimetype": "text/x-python",
   "name": "python",
   "nbconvert_exporter": "python",
   "pygments_lexer": "ipython3",
   "version": "3.10.7 (tags/v3.10.7:6cc6b13, Sep  5 2022, 14:08:36) [MSC v.1933 64 bit (AMD64)]"
  },
  "vscode": {
   "interpreter": {
    "hash": "8c3d4d9970fc5c09c50d9318a9c7fbf4d0159e4b28833276f5678ee22bded273"
   }
  }
 },
 "nbformat": 4,
 "nbformat_minor": 5
}
