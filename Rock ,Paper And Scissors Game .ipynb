{
 "cells": [
  {
   "cell_type": "code",
   "execution_count": 4,
   "id": "a0ca3844",
   "metadata": {},
   "outputs": [
    {
     "name": "stdout",
     "output_type": "stream",
     "text": [
      "what do you choose? type 0 for Rock,1 for paper or 2 for scissors.\n",
      "1\n",
      "\n",
      "    _______\n",
      "---'   ____)____\n",
      "          ______)\n",
      "          _______)\n",
      "         _______)\n",
      "---.__________)\n",
      "\n",
      "Computer choose:\n",
      "\n",
      "    _______\n",
      "---'   ____)____\n",
      "          ______)\n",
      "       __________)\n",
      "      (____)\n",
      "---.__(___)\n",
      "\n",
      "you lose\n"
     ]
    }
   ],
   "source": [
    "import random\n",
    "rock = '''\n",
    "    _______\n",
    "---'   ____)\n",
    "      (_____)\n",
    "      (_____)\n",
    "      (____)\n",
    "---.__(___)\n",
    "'''\n",
    "\n",
    "paper = '''\n",
    "    _______\n",
    "---'   ____)____\n",
    "          ______)\n",
    "          _______)\n",
    "         _______)\n",
    "---.__________)\n",
    "'''\n",
    "\n",
    "scissors = '''\n",
    "    _______\n",
    "---'   ____)____\n",
    "          ______)\n",
    "       __________)\n",
    "      (____)\n",
    "---.__(___)\n",
    "'''\n",
    "game_image = [rock,paper,scissors]\n",
    "choose = int(input(\"what do you choose? type 0 for Rock,1 for paper or 2 for scissors.\\n\"))\n",
    "if choose>=3 or choose<0:\n",
    "    print(\"you type an invalid number,you lose\")\n",
    "else:\n",
    "    print(game_image[choose])\n",
    "    computer = random.randint(0,2)\n",
    "\n",
    "    print(\"Computer choose:\")\n",
    "    print(game_image[computer])\n",
    "\n",
    "    if choose == 0 and computer ==2:\n",
    "        print(\"you win!\")\n",
    "    elif computer==0 and choose==2:\n",
    "        print(\"you lose\")\n",
    "    elif computer>choose:\n",
    "        print(\"you lose\")\n",
    "    elif choose>computer:\n",
    "        print(\"you Win!\")\n",
    "    elif computer == choose :\n",
    "        print(\"It's a draw\")\n"
   ]
  },
  {
   "cell_type": "code",
   "execution_count": null,
   "id": "73876ba2",
   "metadata": {},
   "outputs": [],
   "source": []
  }
 ],
 "metadata": {
  "kernelspec": {
   "display_name": "Python 3 (ipykernel)",
   "language": "python",
   "name": "python3"
  },
  "language_info": {
   "codemirror_mode": {
    "name": "ipython",
    "version": 3
   },
   "file_extension": ".py",
   "mimetype": "text/x-python",
   "name": "python",
   "nbconvert_exporter": "python",
   "pygments_lexer": "ipython3",
   "version": "3.9.12"
  }
 },
 "nbformat": 4,
 "nbformat_minor": 5
}
