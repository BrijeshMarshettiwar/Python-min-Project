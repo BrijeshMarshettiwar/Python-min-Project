{
 "cells": [
  {
   "cell_type": "code",
   "execution_count": 2,
   "id": "801bdd0d",
   "metadata": {},
   "outputs": [
    {
     "ename": "ModuleNotFoundError",
     "evalue": "No module named 'logo'",
     "output_type": "error",
     "traceback": [
      "\u001b[1;31m---------------------------------------------------------------------------\u001b[0m",
      "\u001b[1;31mModuleNotFoundError\u001b[0m                       Traceback (most recent call last)",
      "Input \u001b[1;32mIn [2]\u001b[0m, in \u001b[0;36m<cell line: 1>\u001b[1;34m()\u001b[0m\n\u001b[1;32m----> 1\u001b[0m \u001b[38;5;28;01mfrom\u001b[39;00m \u001b[38;5;21;01mlogo\u001b[39;00m \u001b[38;5;28;01mimport\u001b[39;00m art\n\u001b[0;32m      3\u001b[0m \u001b[38;5;28mprint\u001b[39m(logo)\n\u001b[0;32m      6\u001b[0m \u001b[38;5;66;03m#Calculator\u001b[39;00m\n\u001b[0;32m      7\u001b[0m \u001b[38;5;66;03m#add\u001b[39;00m\n",
      "\u001b[1;31mModuleNotFoundError\u001b[0m: No module named 'logo'"
     ]
    }
   ],
   "source": [
    "from art import logo\n",
    "\n",
    "print(logo)\n",
    "\n",
    "\n",
    "#Calculator\n",
    "#add\n",
    "def add(n1, n2):\n",
    "  return n1 + n2\n",
    "\n",
    "\n",
    "#Subtract\n",
    "def subtract(n1, n2):\n",
    "  return n1 - n2\n",
    "\n",
    "\n",
    "#Multiply\n",
    "def multiply(n1, n2):\n",
    "  return n1 * n2\n",
    "\n",
    "\n",
    "#Divide\n",
    "def divide(n1, n2):\n",
    "  return n1 / n2\n",
    "\n",
    "\n",
    "operations = {\"+\": add, \"-\": subtract, \"*\": multiply, \"/\": divide}\n",
    "\n",
    "\n",
    "def calculator():\n",
    "  num1 = float(input(\"What's the first number?:\"))\n",
    "\n",
    "  for symbol in operations:\n",
    "    print(symbol)\n",
    "  should_continue = True\n",
    "\n",
    "  while should_continue:\n",
    "    operation_symbol = input(\"Pick another operation:\")\n",
    "    num2 = float(input(\"What's the next number:\"))\n",
    "    calculation_function = operations[operation_symbol]\n",
    "    answer = calculation_function(num1, num2)\n",
    "\n",
    "    print(f\"{num1} {operation_symbol} {num2} = {answer}\")\n",
    "\n",
    "    if input(\n",
    "        f\"Type 'y' to continue calculating with {answer}, or type 'n' to start a new calcultion:\"\n",
    "    ) == \"y\":\n",
    "      num = answer\n",
    "    else:\n",
    "      should_continue = False\n",
    "      calculator()\n",
    "\n",
    "\n",
    "calculator()\n"
   ]
  },
  {
   "cell_type": "code",
   "execution_count": null,
   "id": "6482cf69",
   "metadata": {},
   "outputs": [],
   "source": []
  }
 ],
 "metadata": {
  "kernelspec": {
   "display_name": "Python 3 (ipykernel)",
   "language": "python",
   "name": "python3"
  },
  "language_info": {
   "codemirror_mode": {
    "name": "ipython",
    "version": 3
   },
   "file_extension": ".py",
   "mimetype": "text/x-python",
   "name": "python",
   "nbconvert_exporter": "python",
   "pygments_lexer": "ipython3",
   "version": "3.9.12"
  }
 },
 "nbformat": 4,
 "nbformat_minor": 5
}
