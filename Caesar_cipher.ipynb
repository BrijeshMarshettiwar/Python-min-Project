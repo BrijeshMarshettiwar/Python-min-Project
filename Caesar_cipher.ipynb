{
 "cells": [
  {
   "cell_type": "code",
   "execution_count": 1,
   "id": "67ca91e0",
   "metadata": {},
   "outputs": [
    {
     "name": "stdout",
     "output_type": "stream",
     "text": [
      "Type 'encode' to encrypt, type 'decode' to decrypt:\n",
      "hgcghh\n",
      "Type your message:\n",
      "567890\n",
      "Type the shift number:\n",
      "3\n",
      "Here's the hgcghhd result: 567890\n",
      "Type 'yes' if you want to go again. Otherwise type 'no.\n",
      "'yes\n"
     ]
    }
   ],
   "source": [
    "alphabet = [\n",
    "  'a', 'b', 'c', 'd', 'e', 'f', 'g', 'h', 'i', 'j', 'k', 'l', 'm', 'n', 'o',\n",
    "  'p', 'q', 'r', 's', 't', 'u', 'v', 'w', 'x', 'y', 'z', 'a', 'b', 'c', 'd',\n",
    "  'e', 'f', 'g', 'h', 'i', 'j', 'k', 'l', 'm', 'n', 'o', 'p', 'q', 'r', 's',\n",
    "  't', 'u', 'v', 'w', 'x', 'y', 'z'\n",
    "]\n",
    "\n",
    "# from art import logo\n",
    "\n",
    "# print(logo)\n",
    "\n",
    "direction = input(\"Type 'encode' to encrypt, type 'decode' to decrypt:\\n\")\n",
    "text = input(\"Type your message:\\n\").lower()\n",
    "shift = int(input(\"Type the shift number:\\n\"))\n",
    "\n",
    "\n",
    "def caesar(start_text, shift_amount, cipher_direction):\n",
    "  end_text = \"\"\n",
    "  if cipher_direction == \"decode\":\n",
    "    shift_amount *= -1\n",
    "  for char in start_text:\n",
    "    if char in alphabet:\n",
    "      position = alphabet.index(char)\n",
    "      new_position = position + shift_amount\n",
    "      end_text += alphabet[new_position]\n",
    "    else:\n",
    "      end_text += char\n",
    "  print(f\"Here's the {direction}d result: {end_text}\")\n",
    "\n",
    "\n",
    "shift = shift % 25\n",
    "caesar(start_text=text, shift_amount=shift, cipher_direction=direction)\n",
    "restart = input(\"Type 'yes' if you want to go again. Otherwise type 'no.\\n'\")\n",
    "if restart == \"no\":\n",
    "  should_end = True\n",
    "  print(\"Goodbye\")\n"
   ]
  },
  {
   "cell_type": "code",
   "execution_count": null,
   "id": "6981fd08",
   "metadata": {},
   "outputs": [],
   "source": []
  }
 ],
 "metadata": {
  "kernelspec": {
   "display_name": "Python 3 (ipykernel)",
   "language": "python",
   "name": "python3"
  },
  "language_info": {
   "codemirror_mode": {
    "name": "ipython",
    "version": 3
   },
   "file_extension": ".py",
   "mimetype": "text/x-python",
   "name": "python",
   "nbconvert_exporter": "python",
   "pygments_lexer": "ipython3",
   "version": "3.9.12"
  }
 },
 "nbformat": 4,
 "nbformat_minor": 5
}
