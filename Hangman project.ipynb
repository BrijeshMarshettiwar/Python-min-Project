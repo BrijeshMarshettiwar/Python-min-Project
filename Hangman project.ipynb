{
 "cells": [
  {
   "cell_type": "code",
   "execution_count": 1,
   "id": "8ce437ef",
   "metadata": {},
   "outputs": [
    {
     "ename": "ModuleNotFoundError",
     "evalue": "No module named 'replit'",
     "output_type": "error",
     "traceback": [
      "\u001b[1;31m---------------------------------------------------------------------------\u001b[0m",
      "\u001b[1;31mModuleNotFoundError\u001b[0m                       Traceback (most recent call last)",
      "Input \u001b[1;32mIn [1]\u001b[0m, in \u001b[0;36m<cell line: 1>\u001b[1;34m()\u001b[0m\n\u001b[1;32m----> 1\u001b[0m \u001b[38;5;28;01mfrom\u001b[39;00m \u001b[38;5;21;01mreplit\u001b[39;00m \u001b[38;5;28;01mimport\u001b[39;00m clear\n\u001b[0;32m      2\u001b[0m \u001b[38;5;28;01mimport\u001b[39;00m \u001b[38;5;21;01mrandom\u001b[39;00m\n\u001b[0;32m      3\u001b[0m \u001b[38;5;28;01mimport\u001b[39;00m \u001b[38;5;21;01mhangmanword\u001b[39;00m\n",
      "\u001b[1;31mModuleNotFoundError\u001b[0m: No module named 'replit'"
     ]
    }
   ],
   "source": [
    "from replit import clear\n",
    "import random\n",
    "import hangmanword\n",
    "\n",
    "end_of_game = False\n",
    "from hangmanword import word_list\n",
    "chosen_word = random.choice(word_list)\n",
    "word_lenth = len(chosen_word)\n",
    "\n",
    "live = 6\n",
    "from hangmanart import logo, stages\n",
    "print(logo)\n",
    "\n",
    "display = []\n",
    "\n",
    "for _ in range(word_lenth):\n",
    "  display += \"_\"\n",
    "\n",
    "  \n",
    "while not end_of_game:\n",
    "  guess = input(\"Guess a letter:\").lower()\n",
    "  clear()\n",
    "\n",
    "  if guess in display:\n",
    "    print(f\"you've already guessed {guess}\")\n",
    "  \n",
    "  for position in range(word_lenth):\n",
    "    letter = chosen_word[position]\n",
    "    if letter == guess:\n",
    "        display[position] = letter\n",
    "  if guess not in chosen_word:\n",
    "    print(f\"you guessed {guess}, that's not in the word. You lose a life\")\n",
    "    live -= 1\n",
    "    if live == 0:\n",
    "      end_of_game = True\n",
    "      print(\"You Lose.\")\n",
    "      \n",
    "      \n",
    "      \n",
    "  print(display)\n",
    "  \n",
    "\n",
    "  if \"_\" not in display:\n",
    "    end_of_game = True\n",
    "    print(\"You Win.\")\n",
    "\n",
    "  \n",
    "  print(stages[live])\n",
    "        "
   ]
  },
  {
   "cell_type": "code",
   "execution_count": null,
   "id": "9399cbd9",
   "metadata": {},
   "outputs": [],
   "source": []
  }
 ],
 "metadata": {
  "kernelspec": {
   "display_name": "Python 3 (ipykernel)",
   "language": "python",
   "name": "python3"
  },
  "language_info": {
   "codemirror_mode": {
    "name": "ipython",
    "version": 3
   },
   "file_extension": ".py",
   "mimetype": "text/x-python",
   "name": "python",
   "nbconvert_exporter": "python",
   "pygments_lexer": "ipython3",
   "version": "3.9.12"
  }
 },
 "nbformat": 4,
 "nbformat_minor": 5
}
